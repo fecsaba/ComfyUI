{
  "cells": [
    {
      "cell_type": "markdown",
      "metadata": {
        "colab_type": "text",
        "id": "view-in-github"
      },
      "source": [
        "<a href=\"https://colab.research.google.com/github/fecsaba/ComfyUI/blob/main/Flux1_dev_lora_init_load_create.ipynb\" target=\"_parent\"><img src=\"https://colab.research.google.com/assets/colab-badge.svg\" alt=\"Open In Colab\"/></a>"
      ]
    },
    {
      "cell_type": "markdown",
      "metadata": {
        "id": "xG0uz2-v0jRF"
      },
      "source": [
        "### Notes\n",
        "- Uncheck `UPDATE_COMFY_UI`, and `USE_COMFYUI_MANAGER` and `INSTALL_GGUF_NODE` after first run if `USE_GOOGLE_DRIVE` is checked.\n",
        "## Crystools\n",
        "\n",
        "## EasyUse\n",
        "A ComfyUI használhatóságának javítása érdekében számos gyakran használt csomóponthoz optimalizáltak és integráltak.\n",
        "## ITools\n",
        "Az iTools néhány életminőség-csomópont, mint például a kép létrehozásához használt lehetséges prompt beolvasása, a prompt fájlba mentése új sorként, a promptok beolvasása többsoros fájlból.\n",
        "## Was node suite\n",
        "Csomópontcsomag a ComfyUI-hoz számos új csomóponttal, például képfeldolgozással, szövegfeldolgozással és egyebekkel.\n",
        "\n",
        "## ComfyUI's ControlNet Auxiliary Preprocessors\n",
        "Plug-and-play ComfyUI csomópontkészletek ControlNet tippképek készítéséhez\n",
        "\"anime stílus, tiltakozás az utcán, cyberpunk város, egy rózsaszín hajú, arany szemű nő (nézi a nézőt) egy táblát tart a \"ComfyUI ControlNet Aux\" felirattal félkövér, neonrózsaszínnel a Flux.1 Dev-n\n",
        "A kód másolás-beillesztése a https://github.com/lllyasviel/ControlNet/tree/main/annotator megfelelő mappáiból, és csatlakoztatva van a 🤗 Hubhoz .\n",
        "## ComfyUI ControlAltAI Nodes\n",
        "Fluxus mintavevő\n",
        "A Flux Sampler csomópont egyetlen, áramvonalas csomópontban egyesíti a CustomSamplerAdvance csomópont és a bemeneti csomópontok funkcióit.\n",
        "\n",
        "CFG beállítás: A CFG fix értéke 1.\n",
        "Kondicionálás bemenet: Csak pozitív kondicionálás támogatott.\n",
        "Kompatibilitás: Csak a Flux modellel kompatibilis mintavevőket és ütemezőket tartalmazza.\n",
        "Látens kompatibilitás: Csak SD3 üres látens képet használjon. A normál üres látens képcsomópont nem kompatibilis."
      ]
    },
    {
      "cell_type": "markdown",
      "metadata": {
        "id": "tfEXj_WfoRZ5"
      },
      "source": [
        "# INIT"
      ]
    },
    {
      "cell_type": "code",
      "execution_count": null,
      "metadata": {
        "colab": {
          "base_uri": "https://localhost:8080/"
        },
        "collapsed": true,
        "id": "nFcZLbcJoZ-I",
        "outputId": "557542c2-ca5b-4df1-a987-308f0d808972"
      },
      "outputs": [],
      "source": [
        "# #@title Environment Setup\n",
        "from pathlib import Path\n",
        "import os\n",
        "\n",
        "OPTIONS = {}\n",
        "\n",
        "USE_GOOGLE_DRIVE = True  #@param {type:\"boolean\"}\n",
        "UPDATE_COMFY_UI = True  #@param {type:\"boolean\"}\n",
        "USE_COMFYUI_MANAGER = True  #@param {type:\"boolean\"}\n",
        "INSTALL_GGUF_NODE = True  #@param {type:\"boolean\"}\n",
        "INSTALL_CUSTOM_NODES_DEPENDENCIES = True  #@param {type:\"boolean\"}\n",
        "\n",
        "OPTIONS.update({\n",
        "    'USE_GOOGLE_DRIVE': USE_GOOGLE_DRIVE,\n",
        "    'UPDATE_COMFY_UI': UPDATE_COMFY_UI,\n",
        "    'USE_COMFYUI_MANAGER': USE_COMFYUI_MANAGER,\n",
        "    'INSTALL_GGUF_NODE': INSTALL_GGUF_NODE,\n",
        "    'INSTALL_CUSTOM_NODES_DEPENDENCIES': INSTALL_CUSTOM_NODES_DEPENDENCIES\n",
        "})\n",
        "\n",
        "current_dir = !pwd\n",
        "WORKSPACE = f\"{current_dir[0]}/ComfyUI\"\n",
        "\n",
        "if OPTIONS['USE_GOOGLE_DRIVE']:\n",
        "    !echo \"Mounting Google Drive...\"\n",
        "    %cd /\n",
        "    from google.colab import drive\n",
        "    drive.mount('/content/drive')\n",
        "    WORKSPACE = \"/content/drive/MyDrive/ComfyUI\"\n",
        "    %cd /content/drive/MyDrive\n",
        "\n",
        "!export COMFYUI_PATH=WORKSPACE\n",
        "\n",
        "![ ! -d $WORKSPACE ] && echo -= Initial setup ComfyUI =- && git clone https://github.com/comfyanonymous/ComfyUI\n",
        "%cd $WORKSPACE\n",
        "\n",
        "if OPTIONS['UPDATE_COMFY_UI']:\n",
        "  !echo -= Updating ComfyUI =-\n",
        "  !chmod 755 .ci/**/*.bat .ci/**/*.py .ci/**/*.txt\n",
        "  !git pull\n",
        "\n",
        "!echo -= Install dependencies =-\n",
        "!pip3 install accelerate einops transformers>=4.28.1 safetensors>=0.4.2 aiohttp pyyaml Pillow scipy tqdm psutil tokenizers>=0.13.3\n",
        "!pip3 install torch torchvision torchaudio --index-url https://download.pytorch.org/whl/cu121\n",
        "!pip3 install torchsde kornia>=0.7.1 spandrel soundfile sentencepiece\n",
        "\n",
        "if OPTIONS['USE_COMFYUI_MANAGER']:\n",
        "  %cd custom_nodes\n",
        "  !chmod 755 ComfyUI-Manager/**/*.sh\n",
        "  ![ ! -d ComfyUI-Manager ] && echo -= Initial setup ComfyUI-Manager =- && git clone https://github.com/ltdrdata/ComfyUI-Manager\n",
        "  %cd ComfyUI-Manager\n",
        "  !git pull\n",
        "\n",
        "if OPTIONS['INSTALL_GGUF_NODE']:\n",
        "  %cd $WORKSPACE/custom_nodes\n",
        "  !git clone https://github.com/city96/ComfyUI-GGUF\n",
        "  !pip install -r ComfyUI-GGUF/requirements.txt\n",
        "\n",
        "%cd $WORKSPACE\n",
        "\n",
        "!echo -= Install custom nodes dependencies =-\n",
        "!pip install GitPython\n",
        "!python custom_nodes/ComfyUI-Manager/cm-cli.py restore-dependencies\n",
        "\n",
        "!echo -= Install nodes =-\n",
        "!echo -= **************** =-\n",
        "!echo -= Install Crystools =-\n",
        "%cd $WORKSPACE/custom_nodes\n",
        "!git clone https://github.com/crystian/ComfyUI-Crystools.git\n",
        "!pip install -r ComfyUI-Crystools/requirements.txt\n",
        "\n",
        "!echo -= Install EasyUse =-\n",
        "%cd $WORKSPACE/custom_nodes\n",
        "!git clone https://github.com/yolain/ComfyUI-Easy-Use.git\n",
        "!pip install -r ComfyUI-Easy-Use/requirements.txt\n",
        "\n",
        "!echo -= Install Itools =-\n",
        "\n",
        "def install_custom_node(comfyui_path, repo_url, node_folder_name):\n",
        "    custom_nodes_path = os.path.join(comfyui_path, \"custom_nodes\")\n",
        "\n",
        "    if not os.path.exists(custom_nodes_path):\n",
        "        os.makedirs(custom_nodes_path)\n",
        "    print(f\"custom_nodes mappa elérési útvonala: {custom_nodes_path}\")\n",
        "\n",
        "    destination_path = os.path.join(custom_nodes_path, node_folder_name)\n",
        "\n",
        "    if not os.path.exists(destination_path):\n",
        "        !git clone {repo_url} {destination_path}\n",
        "        print(f\"{node_folder_name} telepítése kész.\")\n",
        "    else:\n",
        "        print(f\"{node_folder_name} már telepítve van.\")\n",
        "\n",
        "    requirements_path = os.path.join(destination_path, \"requirements.txt\")\n",
        "    if os.path.exists(requirements_path):\n",
        "        !pip install -r {requirements_path}\n",
        "        print(\"Dependenciák telepítve.\")\n",
        "    else:\n",
        "        print(\"Nincs requirements.txt fájl, nem szükséges dependenciákat telepíteni.\")\n",
        "\n",
        "comfyui_path = \"/content/drive/MyDrive/ComfyUI\"\n",
        "# iTools\n",
        "repo_url = \"https://github.com/fecsaba/ComfyUI-iTools.git\"\n",
        "node_folder_name = \"ComfyUI-iTools\"\n",
        "\n",
        "install_custom_node(comfyui_path, repo_url, node_folder_name)\n",
        "\n",
        "# Was node suite\n",
        "repo_url = \"https://github.com/WASasquatch/was-node-suite-comfyui.git\"\n",
        "node_folder_name = \"was-node-suite-comfyui\"\n",
        "\n",
        "install_custom_node(comfyui_path, repo_url, node_folder_name)\n",
        "\n",
        "# ComfyUI's ControlNet Auxiliary Preprocessors\n",
        "repo_url = \"https://github.com/Fannovel16/comfyui_controlnet_aux.git\"\n",
        "node_folder_name = \"comfyui_controlnet_aux\"\n",
        "\n",
        "install_custom_node(comfyui_path, repo_url, node_folder_name)\n",
        "\n",
        "# ComfyUI ControlAltAI Nodes\n",
        "repo_url = \"https://github.com/gseth/ControlAltAI-Nodes.git\"\n",
        "node_folder_name = \"ControlAltAI-Nodes\"\n",
        "\n",
        "install_custom_node(comfyui_path, repo_url, node_folder_name)\n",
        "\n",
        "%cd $WORKSPACE\n",
        "print(\"Telepítés befejezve. Indítsd újra a ComfyUI-t!\")"
      ]
    },
    {
      "cell_type": "markdown",
      "metadata": {
        "id": "XTEA9vRZ1I1j"
      },
      "source": [
        "### Download Resources"
      ]
    },
    {
      "cell_type": "code",
      "execution_count": null,
      "metadata": {
        "id": "G9DXg5MV3ocz"
      },
      "outputs": [],
      "source": [
        "!mkdir -p \"/content/models/\"\n",
        "!wget -c \"https://huggingface.co/Comfy-Org/HunyuanVideo_repackaged/resolve/main/split_files/diffusion_models/hunyuan_video_t2v_720p_bf16.safetensors\" -P \"/content/models\"\n",
        "!ln -s \"/content/models/hunyuan_video_t2v_720p_bf16.safetensors\" \"/content/models/diffusion_models/hunyuan_video_t2v_720p_bf16.safetensors\"\n",
        "# Download the FLUX model from Hugging Face and save it in the ./models/unet directory\n",
        "!wget -c \"https://huggingface.co/city96/FLUX.1-dev-gguf/resolve/main/flux1-dev-Q8_0.gguf?download=true\" -P \"/models\"\n",
        "!ln -s \"/content/models/flux1-dev-Q8_0.gguf\" \"./content/models/unet/flux1-dev-Q8_0.gguf\"\n",
        "\n",
        "# Download the CLIP T5 model from Hugging Face and save it in ./models/clip\n",
        "!wget -c \"https://huggingface.co/city96/t5-v1_1-xxl-encoder-gguf/resolve/main/t5-v1_1-xxl-encoder-Q8_0.gguf?download=true\" -P \"/models\"\n",
        "!ln -s \"/content/models/t5-v1_1-xxl-encoder-Q8_0.gguf\" \"./content/models/clip/t5-v1_1-xxl-encoder-Q8_0.gguf\"\n",
        "\n",
        "# Download the safetensors file for the CLIP model\n",
        "https://huggingface.co/f5aiteam/CLIP/resolve/main/clip_l-for-gguf.safetensors?download=true\n",
        "!wget -c \"https://huggingface.co/f5aiteam/CLIP/resolve/main/clip_l-for-gguf.safetensors?download=true\" -P \"/models\"\n",
        "!ln -s \"/content/models/clip_l-for-gguf.safetensors\" \"./content/models/clip/clip_l-for-gguf.safetensors\"\n",
        "\n",
        "# Download the VAE model from Hugging Face and save it in ./models/vae\n",
        "https://huggingface.co/f5aiteam/VAE/resolve/main/ae.safetensors?download=true\n",
        "!wget -c \"https://huggingface.co/f5aiteam/VAE/resolve/main/ae.safetensors\" -P \"/models\"\n",
        "!ln -s \"/content/models/ae.safetensors\" \"./content/models/vae/ae.safetensors\"\n",
        "\n",
        "# Download the LoRa model from Civitai.com Replace `298eebac3e9fecdcd7def0c8a41fa14d` with your actual token\n",
        "# !wget -c \"https://civitai.com/api/download/models/1198851?type=Model&format=SafeTensor&token=298eebac3e9fecdcd7def0c8a41fa14d\" -O \"./models/loras/FluxThouS40k.safetensors\"\n",
        "# !wget -c \"https://civitai.com/api/download/models/1198851?type=Model&format=SafeTensor&token=298eebac3e9fecdcd7def0c8a41fa14d\" -O \"./models/loras/FluxThouS40k.safetensors\"\n",
        "\n",
        "# !mkdir -p \"/content/models/\"\n",
        "# !wget -c \"https://huggingface.co/Comfy-Org/HunyuanVideo_repackaged/resolve/main/split_files/diffusion_models/hunyuan_video_t2v_720p_bf16.safetensors\" -P \"/content/models\"\n",
        "# !ln -s \"/content/models/hunyuan_video_t2v_720p_bf16.safetensors\" \"/content/models/diffusion_models/hunyuan_video_t2v_720p_bf16.safetensors\"\n",
        "\n",
        "# !wget -c \"https://huggingface.co/Comfy-Org/HunyuanVideo_repackaged/resolve/main/split_files/text_encoders/clip_l.safetensors\" -P \"/content/models\"\n",
        "# !ln -s \"/content/models/clip_l.safetensors\" \"/content/models/text_encoders/clip_l.safetensors\"\n",
        "\n",
        "# !wget -c \"https://huggingface.co/Comfy-Org/HunyuanVideo_repackaged/resolve/main/split_files/text_encoders/llava_llama3_fp8_scaled.safetensors\" -P \"/content/models\"\n",
        "# !ln -s \"/content/models/llava_llama3_fp8_scaled.safetensors\" \"/content/models/text_encoders/llava_llama3_fp8_scaled.safetensors\"\n",
        "\n",
        "# !wget -c \"https://huggingface.co/Comfy-Org/HunyuanVideo_repackaged/resolve/main/split_files/vae/hunyuan_video_vae_bf16.safetensors\" -P \"/content/models\"\n",
        "# !ln -s \"/content/models/hunyuan_video_vae_bf16.safetensors\" \"/content/models/vae/hunyuan_video_vae_bf16.safetensors\"\n"
      ]
    },
    {
      "cell_type": "markdown",
      "metadata": {
        "id": "fknei2hd34VM"
      },
      "source": [
        "### Run ComfyUI"
      ]
    },
    {
      "cell_type": "code",
      "execution_count": null,
      "metadata": {
        "colab": {
          "base_uri": "https://localhost:8080/"
        },
        "collapsed": true,
        "id": "3DioeCN34A79",
        "outputId": "9c07bacd-67fe-443a-9205-a7acde677ddc"
      },
      "outputs": [],
      "source": [
        "!wget -P ~ https://github.com/cloudflare/cloudflared/releases/latest/download/cloudflared-linux-amd64.deb\n",
        "!dpkg -i ~/cloudflared-linux-amd64.deb\n",
        "\n",
        "import subprocess\n",
        "import threading\n",
        "import time\n",
        "import socket\n",
        "import urllib.request\n",
        "\n",
        "def iframe_thread(port):\n",
        "  while True:\n",
        "      time.sleep(0.5)\n",
        "      sock = socket.socket(socket.AF_INET, socket.SOCK_STREAM)\n",
        "      result = sock.connect_ex(('127.0.0.1', port))\n",
        "      if result == 0:\n",
        "        break\n",
        "      sock.close()\n",
        "  print(\"\\nComfyUI finished loading, trying to launch cloudflared (if it gets stuck here cloudflared is having issues)\\n\")\n",
        "\n",
        "  p = subprocess.Popen([\"cloudflared\", \"tunnel\", \"--url\", \"http://127.0.0.1:{}\".format(port)], stdout=subprocess.PIPE, stderr=subprocess.PIPE)\n",
        "  for line in p.stderr:\n",
        "    l = line.decode()\n",
        "    if \"trycloudflare.com \" in l:\n",
        "      print(\"This is the URL to access ComfyUI:\", l[l.find(\"http\"):], end='')\n",
        "    #print(l, end='')\n",
        "\n",
        "\n",
        "threading.Thread(target=iframe_thread, daemon=True, args=(8188,)).start()\n",
        "\n",
        "!python main.py --dont-print-server"
      ]
    }
  ],
  "metadata": {
    "colab": {
      "include_colab_link": true,
      "provenance": []
    },
    "kernelspec": {
      "display_name": "Python 3",
      "name": "python3"
    },
    "language_info": {
      "name": "python"
    }
  },
  "nbformat": 4,
  "nbformat_minor": 0
}
