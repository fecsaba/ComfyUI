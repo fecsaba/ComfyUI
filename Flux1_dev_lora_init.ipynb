{
  "cells": [
    {
      "cell_type": "markdown",
      "metadata": {
        "colab_type": "text",
        "id": "view-in-github"
      },
      "source": [
        "<a href=\"https://colab.research.google.com/github/fecsaba/ComfyUI/blob/main/Flux1_dev_lora_init.ipynb\" target=\"_parent\"><img src=\"https://colab.research.google.com/assets/colab-badge.svg\" alt=\"Open In Colab\"/></a>"
      ]
    },
    {
      "cell_type": "markdown",
      "metadata": {
        "id": "xG0uz2-v0jRF"
      },
      "source": [
        "### Notes\n",
        "- Uncheck `UPDATE_COMFY_UI`, and `USE_COMFYUI_MANAGER` and `INSTALL_GGUF_NODE` after first run if `USE_GOOGLE_DRIVE` is checked.\n"
      ]
    },
    {
      "cell_type": "markdown",
      "metadata": {
        "id": "tfEXj_WfoRZ5"
      },
      "source": [
        "# INIT\n",
        "## Crystools\n",
        "## EasyUse\n",
        "## ITools"
      ]
    },
    {
      "cell_type": "code",
      "execution_count": null,
      "metadata": {
        "colab": {
          "base_uri": "https://localhost:8080/"
        },
        "collapsed": true,
        "id": "nFcZLbcJoZ-I",
        "outputId": "6a563243-fdb8-4c5d-b079-4ebeabe6f2cd"
      },
      "outputs": [
        {
          "name": "stdout",
          "output_type": "stream",
          "text": [
            "Mounting Google Drive...\n",
            "Mounted at /content/drive\n",
            "Initial setup ComfyUI\n",
            "Updating ComfyUI\n",
            "Install dependencies\n",
            "Initial setup ComfyUI-Manager\n",
            "Install custom nodes dependencies\n"
          ]
        }
      ],
      "source": [
        "# #@title Environment Setup\n",
        "\n",
        "from pathlib import Path\n",
        "\n",
        "OPTIONS = {}\n",
        "\n",
        "USE_GOOGLE_DRIVE = True  #@param {type:\"boolean\"}\n",
        "UPDATE_COMFY_UI = True  #@param {type:\"boolean\"}\n",
        "USE_COMFYUI_MANAGER = True  #@param {type:\"boolean\"}\n",
        "INSTALL_GGUF_NODE = True  #@param {type:\"boolean\"}\n",
        "INSTALL_CUSTOM_NODES_DEPENDENCIES = True  #@param {type:\"boolean\"}\n",
        "OPTIONS['USE_GOOGLE_DRIVE'] = USE_GOOGLE_DRIVE\n",
        "OPTIONS['UPDATE_COMFY_UI'] = UPDATE_COMFY_UI\n",
        "OPTIONS['USE_COMFYUI_MANAGER'] = USE_COMFYUI_MANAGER\n",
        "OPTIONS['INSTALL_GGUF_NODE'] = INSTALL_GGUF_NODE\n",
        "OPTIONS['INSTALL_CUSTOM_NODES_DEPENDENCIES'] = INSTALL_CUSTOM_NODES_DEPENDENCIES\n",
        "\n",
        "current_dir = !pwd\n",
        "WORKSPACE = f\"{current_dir[0]}/ComfyUI\"\n",
        "\n",
        "if OPTIONS['USE_GOOGLE_DRIVE']:\n",
        "    !echo \"Mounting Google Drive...\"\n",
        "    %cd /\n",
        "\n",
        "    from google.colab import drive\n",
        "    drive.mount('/content/drive')\n",
        "\n",
        "    WORKSPACE = \"/content/drive/MyDrive/ComfyUI\"\n",
        "    %cd /content/drive/MyDrive\n",
        "\n",
        "![ ! -d $WORKSPACE ] && echo -= Initial setup ComfyUI =- && git clone https://github.com/comfyanonymous/ComfyUI\n",
        "%cd $WORKSPACE\n",
        "\n",
        "if OPTIONS['UPDATE_COMFY_UI']:\n",
        "  !echo -= Updating ComfyUI =-\n",
        "\n",
        "  # Correction of the issue of permissions being deleted on Google Drive.\n",
        "  ![ -f \".ci/nightly/update_windows/update_comfyui_and_python_dependencies.bat\" ] && chmod 755 .ci/nightly/update_windows/update_comfyui_and_python_dependencies.bat\n",
        "  ![ -f \".ci/nightly/windows_base_files/run_nvidia_gpu.bat\" ] && chmod 755 .ci/nightly/windows_base_files/run_nvidia_gpu.bat\n",
        "  ![ -f \".ci/update_windows/update_comfyui_and_python_dependencies.bat\" ] && chmod 755 .ci/update_windows/update_comfyui_and_python_dependencies.bat\n",
        "  ![ -f \".ci/update_windows_cu118/update_comfyui_and_python_dependencies.bat\" ] && chmod 755 .ci/update_windows_cu118/update_comfyui_and_python_dependencies.bat\n",
        "  ![ -f \".ci/update_windows/update.py\" ] && chmod 755 .ci/update_windows/update.py\n",
        "  ![ -f \".ci/update_windows/update_comfyui.bat\" ] && chmod 755 .ci/update_windows/update_comfyui.bat\n",
        "  ![ -f \".ci/update_windows/README_VERY_IMPORTANT.txt\" ] && chmod 755 .ci/update_windows/README_VERY_IMPORTANT.txt\n",
        "  ![ -f \".ci/update_windows/run_cpu.bat\" ] && chmod 755 .ci/update_windows/run_cpu.bat\n",
        "  ![ -f \".ci/update_windows/run_nvidia_gpu.bat\" ] && chmod 755 .ci/update_windows/run_nvidia_gpu.bat\n",
        "\n",
        "  !git pull\n",
        "\n",
        "!echo -= Install dependencies =-\n",
        "!pip3 install accelerate\n",
        "!pip3 install einops transformers>=4.28.1 safetensors>=0.4.2 aiohttp pyyaml Pillow scipy tqdm psutil tokenizers>=0.13.3\n",
        "!pip3 install torch torchvision torchaudio --index-url https://download.pytorch.org/whl/cu121\n",
        "!pip3 install torchsde\n",
        "!pip3 install kornia>=0.7.1 spandrel soundfile sentencepiece\n",
        "\n",
        "if OPTIONS['USE_COMFYUI_MANAGER']:\n",
        "  %cd custom_nodes\n",
        "\n",
        "  # Correction of the issue of permissions being deleted on Google Drive.\n",
        "  ![ -f \"ComfyUI-Manager/check.sh\" ] && chmod 755 ComfyUI-Manager/check.sh\n",
        "  ![ -f \"ComfyUI-Manager/scan.sh\" ] && chmod 755 ComfyUI-Manager/scan.sh\n",
        "  ![ -f \"ComfyUI-Manager/node_db/dev/scan.sh\" ] && chmod 755 ComfyUI-Manager/node_db/dev/scan.sh\n",
        "  ![ -f \"ComfyUI-Manager/scripts/install-comfyui-venv-linux.sh\" ] && chmod 755 ComfyUI-Manager/scripts/install-comfyui-venv-linux.sh\n",
        "  ![ -f \"ComfyUI-Manager/scripts/install-comfyui-venv-win.bat\" ] && chmod 755 ComfyUI-Manager/scripts/install-comfyui-venv-win.bat\n",
        "\n",
        "  ![ ! -d ComfyUI-Manager ] && echo -= Initial setup ComfyUI-Manager =- && git clone https://github.com/ltdrdata/ComfyUI-Manager\n",
        "  %cd ComfyUI-Manager\n",
        "  !git pull\n",
        "\n",
        "\n",
        "if OPTIONS['INSTALL_GGUF_NODE']:\n",
        "  %cd $WORKSPACE\n",
        "  %cd custom_nodes\n",
        "  !git clone https://github.com/city96/ComfyUI-GGUF\n",
        "  !pip install -r ComfyUI-GGUF/requirements.txt\n",
        "\n",
        "%cd $WORKSPACE\n",
        "\n",
        "\n",
        "!echo -= Install custom nodes dependencies =-\n",
        "!pip install GitPython\n",
        "!python custom_nodes/ComfyUI-Manager/cm-cli.py restore-dependencies\n",
        "\n",
        "\n",
        "!echo -= Install nodes =-\n",
        "!echo -= **************** =-\n",
        "!echo -= **************** =-\n",
        "!echo -= Install Crystools =-\n",
        "!echo -= **************** =-\n",
        "!echo -= **************** =-\n",
        "%cd $WORKSPACE\n",
        "%cd custom_nodes\n",
        "!git clone https://github.com/crystian/ComfyUI-Crystools.git\n",
        "!pip install -r ComfyUI-Crystools/requirements.txt\n",
        "!echo -= Install nodes =-\n",
        "!echo -= **************** =-\n",
        "!echo -= **************** =-\n",
        "!echo -= Install EasyUse =-\n",
        "!echo -= **************** =-\n",
        "!echo -= **************** =-\n",
        "%cd $WORKSPACE\n",
        "%cd custom_nodes\n",
        "!git clone https://github.com/yolain/ComfyUI-Easy-Use.git\n",
        "!pip install -r ComfyUI-Easy-Use/requirements.txt\n",
        "\n",
        "ű\n",
        "!echo -= **************** =-\n",
        "!echo -= Install Itools =-\n",
        "!echo -= **************** =-\n",
        "!echo\n",
        "import os\n",
        "\n",
        "comfyui_path = \"/content/drive/MyDrive/ComfyUI\"  # Ellenőrizd!\n",
        "custom_nodes_path = os.path.join(comfyui_path, \"custom_nodes\")\n",
        "\n",
        "# 1. custom_nodes mappa létrehozása (ha még nincs)\n",
        "if not os.path.exists(custom_nodes_path):\n",
        "    os.makedirs(custom_nodes_path)\n",
        "print(f\"custom_nodes mappa elérési útvonala: {custom_nodes_path}\")\n",
        "\n",
        "# 2. ComfyUI-iTools repo klónozása\n",
        "repo_url = \"https://github.com/fecsaba/ComfyUI-iTools.git\"\n",
        "node_folder_name = \"ComfyUI-iTools\"\n",
        "destination_path = os.path.join(custom_nodes_path, node_folder_name)\n",
        "\n",
        "if not os.path.exists(destination_path):\n",
        "    !git clone {repo_url} {destination_path}\n",
        "    print(f\"{node_folder_name} telepítése kész.\")\n",
        "else:\n",
        "    print(f\"{node_folder_name} már telepítve van.\")\n",
        "\n",
        "# 3. (Opcionális) függőségek telepítése (itt nincs)\n",
        "requirements_path = os.path.join(destination_path, \"requirements.txt\")\n",
        "if os.path.exists(requirements_path):\n",
        "    !pip install -r {requirements_path}\n",
        "    print(\"Dependenciák telepítve.\")\n",
        "else:\n",
        "    print(\"Nincs requirements.txt fájl, nem szükséges dependenciákat telepíteni.\")\n",
        "\n",
        "print(\"Telepítés befejezve. Indítsd újra a ComfyUI-t!\")\n"
      ]
    }
  ],
  "metadata": {
    "accelerator": "GPU",
    "colab": {
      "gpuType": "T4",
      "include_colab_link": true,
      "provenance": []
    },
    "kernelspec": {
      "display_name": "Python 3",
      "name": "python3"
    },
    "language_info": {
      "name": "python"
    }
  },
  "nbformat": 4,
  "nbformat_minor": 0
}
